{
 "cells": [
  {
   "cell_type": "markdown",
   "id": "9a2bcf57",
   "metadata": {},
   "source": [
    "Load Dataset "
   ]
  },
  {
   "cell_type": "code",
   "execution_count": 23,
   "id": "3d5b27e2",
   "metadata": {},
   "outputs": [],
   "source": [
    "import pandas as pd \n",
    "\n",
    "# Pandas display settings\n",
    "pd.set_option('display.max_rows', None)\n",
    "pd.set_option('display.max_columns', None)\n",
    "pd.set_option('display.width', 1000)\n",
    "pd.set_option('display.max_colwidth', None)\n",
    "\n",
    "matches = pd.read_csv(r\"../IPL Dataset/matches.csv\")\n",
    "deliveries = pd.read_csv(r\"../IPL Dataset/deliveries.csv\")\n",
    "home_away = pd.read_csv(r\"../IPL Dataset/teamwise_home_and_away.csv\")\n",
    "\n"
   ]
  },
  {
   "cell_type": "markdown",
   "id": "22915dce",
   "metadata": {},
   "source": [
    "TOP RUN SCORERS"
   ]
  },
  {
   "cell_type": "code",
   "execution_count": null,
   "id": "b3eb506e",
   "metadata": {},
   "outputs": [],
   "source": [
    "top_scorers = deliveries.groupby(\"batsman\")[\"batsman_runs\"].sum().sort_values(ascending=False).head(10).reset_index()\n",
    "display(top_scorers)"
   ]
  },
  {
   "cell_type": "markdown",
   "id": "4a8ea0c3",
   "metadata": {},
   "source": [
    "wicket takers"
   ]
  },
  {
   "cell_type": "code",
   "execution_count": null,
   "id": "bd095404",
   "metadata": {},
   "outputs": [],
   "source": [
    "wickets = deliveries[deliveries[\"player_dismissed\"].notnull()]\n",
    "top_bowlers = wickets.groupby(\"bowler\").size().sort_values(ascending=False).head(10)\n",
    "print(top_bowlers)"
   ]
  },
  {
   "cell_type": "markdown",
   "id": "42c23ffe",
   "metadata": {},
   "source": [
    "TOSS WINNER VS MATCH WINNER"
   ]
  },
  {
   "cell_type": "code",
   "execution_count": 25,
   "id": "e59174ae",
   "metadata": {},
   "outputs": [
    {
     "name": "stdout",
     "output_type": "stream",
     "text": [
      "toss_match_same\n",
      "True     51.984127\n",
      "False    48.015873\n",
      "Name: proportion, dtype: float64\n"
     ]
    }
   ],
   "source": [
    "matches[\"toss_match_same\"] = matches[\"toss_winner\"] == matches[\"winner\"]\n",
    "result = matches[\"toss_match_same\"].value_counts(normalize=True) * 100\n",
    "print(result)"
   ]
  },
  {
   "cell_type": "markdown",
   "id": "957c1010",
   "metadata": {},
   "source": [
    "Home vs Away"
   ]
  },
  {
   "cell_type": "code",
   "execution_count": null,
   "id": "4ac43be2",
   "metadata": {},
   "outputs": [],
   "source": [
    "print(home_away.sort_values(\"home_win_percentage\", ascending=False))"
   ]
  }
 ],
 "metadata": {
  "kernelspec": {
   "display_name": "Python 3",
   "language": "python",
   "name": "python3"
  },
  "language_info": {
   "codemirror_mode": {
    "name": "ipython",
    "version": 3
   },
   "file_extension": ".py",
   "mimetype": "text/x-python",
   "name": "python",
   "nbconvert_exporter": "python",
   "pygments_lexer": "ipython3",
   "version": "3.13.3"
  }
 },
 "nbformat": 4,
 "nbformat_minor": 5
}
